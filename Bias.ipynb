{
 "cells": [
  {
   "cell_type": "markdown",
   "metadata": {},
   "source": [
    "# Bias in AI Coursework"
   ]
  },
  {
   "cell_type": "code",
   "execution_count": 363,
   "metadata": {},
   "outputs": [],
   "source": [
    "# Importing relevant libraries \n",
    "import pandas as pd\n",
    "import numpy as np\n",
    "import scipy.stats as stats\n",
    "import random\n",
    "from sklearn import linear_model\n",
    "from sklearn.model_selection import train_test_split\n",
    "from sklearn.metrics import mean_absolute_error, mean_squared_error, accuracy_score\n"
   ]
  },
  {
   "cell_type": "markdown",
   "metadata": {},
   "source": [
    "### Question 1"
   ]
  },
  {
   "cell_type": "code",
   "execution_count": 364,
   "metadata": {},
   "outputs": [
    {
     "data": {
      "text/html": [
       "<div>\n",
       "<style scoped>\n",
       "    .dataframe tbody tr th:only-of-type {\n",
       "        vertical-align: middle;\n",
       "    }\n",
       "\n",
       "    .dataframe tbody tr th {\n",
       "        vertical-align: top;\n",
       "    }\n",
       "\n",
       "    .dataframe thead th {\n",
       "        text-align: right;\n",
       "    }\n",
       "</style>\n",
       "<table border=\"1\" class=\"dataframe\">\n",
       "  <thead>\n",
       "    <tr style=\"text-align: right;\">\n",
       "      <th></th>\n",
       "      <th>ApplicantCode</th>\n",
       "      <th>Gender</th>\n",
       "      <th>BAMEyn</th>\n",
       "      <th>ShortlistedNY</th>\n",
       "      <th>Interviewed</th>\n",
       "      <th>FemaleONpanel</th>\n",
       "      <th>OfferNY</th>\n",
       "      <th>AcceptNY</th>\n",
       "      <th>JoinYN</th>\n",
       "    </tr>\n",
       "  </thead>\n",
       "  <tbody>\n",
       "    <tr>\n",
       "      <th>0</th>\n",
       "      <td>1</td>\n",
       "      <td>1</td>\n",
       "      <td>2</td>\n",
       "      <td>1</td>\n",
       "      <td>1</td>\n",
       "      <td>1.0</td>\n",
       "      <td>1.0</td>\n",
       "      <td>1.0</td>\n",
       "      <td>1.0</td>\n",
       "    </tr>\n",
       "    <tr>\n",
       "      <th>1</th>\n",
       "      <td>2</td>\n",
       "      <td>1</td>\n",
       "      <td>2</td>\n",
       "      <td>1</td>\n",
       "      <td>1</td>\n",
       "      <td>1.0</td>\n",
       "      <td>1.0</td>\n",
       "      <td>1.0</td>\n",
       "      <td>1.0</td>\n",
       "    </tr>\n",
       "    <tr>\n",
       "      <th>2</th>\n",
       "      <td>3</td>\n",
       "      <td>1</td>\n",
       "      <td>2</td>\n",
       "      <td>1</td>\n",
       "      <td>1</td>\n",
       "      <td>1.0</td>\n",
       "      <td>1.0</td>\n",
       "      <td>1.0</td>\n",
       "      <td>1.0</td>\n",
       "    </tr>\n",
       "    <tr>\n",
       "      <th>3</th>\n",
       "      <td>4</td>\n",
       "      <td>1</td>\n",
       "      <td>2</td>\n",
       "      <td>1</td>\n",
       "      <td>1</td>\n",
       "      <td>2.0</td>\n",
       "      <td>1.0</td>\n",
       "      <td>1.0</td>\n",
       "      <td>1.0</td>\n",
       "    </tr>\n",
       "    <tr>\n",
       "      <th>4</th>\n",
       "      <td>5</td>\n",
       "      <td>1</td>\n",
       "      <td>2</td>\n",
       "      <td>1</td>\n",
       "      <td>1</td>\n",
       "      <td>2.0</td>\n",
       "      <td>0.0</td>\n",
       "      <td>NaN</td>\n",
       "      <td>NaN</td>\n",
       "    </tr>\n",
       "  </tbody>\n",
       "</table>\n",
       "</div>"
      ],
      "text/plain": [
       "   ApplicantCode  Gender  BAMEyn  ShortlistedNY  Interviewed  FemaleONpanel  \\\n",
       "0              1       1       2              1            1            1.0   \n",
       "1              2       1       2              1            1            1.0   \n",
       "2              3       1       2              1            1            1.0   \n",
       "3              4       1       2              1            1            2.0   \n",
       "4              5       1       2              1            1            2.0   \n",
       "\n",
       "   OfferNY  AcceptNY  JoinYN  \n",
       "0      1.0       1.0     1.0  \n",
       "1      1.0       1.0     1.0  \n",
       "2      1.0       1.0     1.0  \n",
       "3      1.0       1.0     1.0  \n",
       "4      0.0       NaN     NaN  "
      ]
     },
     "execution_count": 364,
     "metadata": {},
     "output_type": "execute_result"
    }
   ],
   "source": [
    "# Reads in the dataset file\n",
    "data = pd.read_excel(\"recruitment.xls\")\n",
    "\n",
    "# Displays the start of the dataset\n",
    "data.head()\n"
   ]
  },
  {
   "cell_type": "markdown",
   "metadata": {},
   "source": [
    "### Question 2"
   ]
  },
  {
   "cell_type": "code",
   "execution_count": 365,
   "metadata": {},
   "outputs": [],
   "source": [
    "# Calculates data spread statistics \n",
    "mean_gender = data[\"Gender\"].mean()\n",
    "standard_deviation_gender = data[\"Gender\"].std()\n",
    "variance_gender = data[\"Gender\"].var()\n",
    "minimum_gender = data[\"Gender\"].min()\n",
    "maximum_gender = data[\"Gender\"].max()\n",
    "mean_BAMEyn = data[\"BAMEyn\"].mean()\n",
    "standard_deviation_BAMEyn = data[\"BAMEyn\"].std()\n",
    "variance_BAMEyn = data[\"BAMEyn\"].var()\n",
    "minimum_BAMEyn = data[\"BAMEyn\"].min()\n",
    "maximum_BAMEyn = data[\"BAMEyn\"].max()\n",
    "\n",
    "# Calculates the total number of applicants per group\n",
    "total_num_male = len(data[data[\"Gender\"] == 1])\n",
    "total_num_female = len(data[data[\"Gender\"] == 2])\n",
    "total_num_BAME = len(data[data[\"BAMEyn\"] == 1])\n",
    "total_num_nonBAME = len(data[data[\"BAMEyn\"] == 2])\n",
    "\n",
    "# Calculates the number of shortlisted applicants per group\n",
    "shortlisted_num_of_males = len(data[(data[\"ShortlistedNY\"] == 1) & (data[\"Gender\"] == 1)])\n",
    "shortlisted_num_of_females = len(data[(data[\"ShortlistedNY\"] == 1) & (data[\"Gender\"] == 2)])\n",
    "shortlisted_num_of_BAME = len(data[(data[\"ShortlistedNY\"] == 1) & (data[\"BAMEyn\"] == 1)])\n",
    "shortlisted_num_of_nonBAME = len(data[(data[\"ShortlistedNY\"] == 1) & (data[\"BAMEyn\"] == 2)])\n",
    "\n",
    "# Calculates the number of interviewed applicants per group\n",
    "interviewed_num_of_males = len(data[(data[\"Interviewed\"] == 1) & (data[\"Gender\"] == 1)])\n",
    "interviewed_num_of_females = len(data[(data[\"Interviewed\"] == 1) & (data[\"Gender\"] == 2)])\n",
    "interviewed_num_of_BAME = len(data[(data[\"Interviewed\"] == 1) & (data[\"BAMEyn\"] == 1)])\n",
    "interviewed_num_of_nonBAME = len(data[(data[\"Interviewed\"] == 1) & (data[\"BAMEyn\"] == 2)])\n",
    "\n",
    "# Calculates the number of job offer holders per group\n",
    "offer_num_of_males = len(data[(data[\"OfferNY\"] == 1) & (data[\"Gender\"] == 1)])\n",
    "offer_num_of_females = len(data[(data[\"OfferNY\"] == 1) & (data[\"Gender\"] == 2)])\n",
    "offer_num_of_BAME = len(data[(data[\"OfferNY\"] == 1) & (data[\"BAMEyn\"] == 1)])\n",
    "offer_num_of_nonBAME = len(data[(data[\"OfferNY\"] == 1) & (data[\"BAMEyn\"] == 2)])\n",
    "\n",
    "# Calculates the number of accepted applicants per group\n",
    "accepted_num_of_males = len(data[(data[\"AcceptNY\"] == 1) & (data[\"Gender\"] == 1)])\n",
    "accepted_num_of_females = len(data[(data[\"AcceptNY\"] == 1) & (data[\"Gender\"] == 2)])\n",
    "accepted_num_of_BAME = len(data[(data[\"AcceptNY\"] == 1) & (data[\"BAMEyn\"] == 1)])\n",
    "accepted_num_of_nonBAME = len(data[(data[\"AcceptNY\"] == 1) & (data[\"BAMEyn\"] == 2)])\n",
    "\n",
    "# Calculates the number of joined applicants per group\n",
    "joined_num_of_males = len(data[(data[\"JoinYN\"] == 1) & (data[\"Gender\"] == 1)])\n",
    "joined_num_of_females = len(data[(data[\"JoinYN\"] == 1) & (data[\"Gender\"] == 2)])\n",
    "joined_num_of_BAME = len(data[(data[\"JoinYN\"] == 1) & (data[\"BAMEyn\"] == 1)])\n",
    "joined_num_of_nonBAME = len(data[(data[\"JoinYN\"] == 1) & (data[\"BAMEyn\"] == 2)])\n"
   ]
  },
  {
   "cell_type": "code",
   "execution_count": 366,
   "metadata": {},
   "outputs": [
    {
     "name": "stdout",
     "output_type": "stream",
     "text": [
      "Gender Minimum Value: 1\n",
      "Gender Maximum Value: 2\n",
      "Gender Range: 1\n",
      "Gender Mean: 1.7214285714285715\n",
      "Gender Standard Deviation: 0.4490987732574203\n",
      "Gender Variance: 0.2016897081413198\n",
      "\n",
      "\n",
      "Total Number of Males: 78\n",
      "Shortlisted Males: 38\n",
      "Interviewed Males: 27\n",
      "Offered Males: 18\n",
      "Accepted Males: 12\n",
      "Joined Males: 12\n",
      "\n",
      "\n",
      "Total Number of Females: 202\n",
      "Shortlisted Females: 50\n",
      "Interviewed Females: 28\n",
      "Offered Females: 10\n",
      "Accepted Females: 6\n",
      "Joined Females: 6\n",
      "\n",
      "\n",
      "BAMEyn Minimum Value: 1\n",
      "BAMEyn Maximum Value: 2\n",
      "BAMEyn Range: 1\n",
      "BAMEyn Mean: 1.5678571428571428\n",
      "BAMEyn Standard Deviation: 0.49626098133697955\n",
      "BAMEyn Variance: 0.24627496159754195\n",
      "\n",
      "\n",
      "Total Number of BAME: 121\n",
      "Shortlisted BAME: 19\n",
      "Interviewed BAME: 13\n",
      "Offered BAME: 8\n",
      "Accepted BAME: 4\n",
      "Joined BAME: 4\n",
      "\n",
      "\n",
      "Total Number of Non-BAME: 159\n",
      "Shortlisted Non-BAME: 69\n",
      "Interviewed Non-BAME: 42\n",
      "Offered Non-BAME: 20\n",
      "Accepted Non-BAME: 14\n",
      "Joined Non-BAME: 14\n"
     ]
    }
   ],
   "source": [
    "# Displays all the defined  statistics relevant to the privileged and unprivileged groups\n",
    "print(\"Gender Minimum Value: \" + str(minimum_gender))\n",
    "print(\"Gender Maximum Value: \" + str(maximum_gender))\n",
    "print(\"Gender Range: \" + str(maximum_gender - minimum_gender))\n",
    "print(\"Gender Mean: \" + str(mean_gender))\n",
    "print(\"Gender Standard Deviation: \" + str(standard_deviation_gender))\n",
    "print(\"Gender Variance: \" + str(variance_gender))\n",
    "print(\"\\n\")\n",
    "print(\"Total Number of Males: \" + str(total_num_male))\n",
    "print(\"Shortlisted Males: \" + str(shortlisted_num_of_males))\n",
    "print(\"Interviewed Males: \" + str(interviewed_num_of_males))\n",
    "print(\"Offered Males: \" + str(offer_num_of_males))\n",
    "print(\"Accepted Males: \" + str(accepted_num_of_males))\n",
    "print(\"Joined Males: \" + str(joined_num_of_males))\n",
    "print(\"\\n\")\n",
    "print(\"Total Number of Females: \" + str(total_num_female))\n",
    "print(\"Shortlisted Females: \" + str(shortlisted_num_of_females))\n",
    "print(\"Interviewed Females: \" + str(interviewed_num_of_females))\n",
    "print(\"Offered Females: \" + str(offer_num_of_females))\n",
    "print(\"Accepted Females: \" + str(accepted_num_of_females))\n",
    "print(\"Joined Females: \" + str(joined_num_of_females))\n",
    "print(\"\\n\")\n",
    "print(\"BAMEyn Minimum Value: \" + str(minimum_BAMEyn))\n",
    "print(\"BAMEyn Maximum Value: \" + str(maximum_BAMEyn))\n",
    "print(\"BAMEyn Range: \" + str(maximum_BAMEyn - minimum_BAMEyn))\n",
    "print(\"BAMEyn Mean: \" + str(mean_BAMEyn))\n",
    "print(\"BAMEyn Standard Deviation: \" + str(standard_deviation_BAMEyn))\n",
    "print(\"BAMEyn Variance: \" + str(variance_BAMEyn))\n",
    "print(\"\\n\")\n",
    "print(\"Total Number of BAME: \" + str(total_num_BAME))\n",
    "print(\"Shortlisted BAME: \" + str(shortlisted_num_of_BAME))\n",
    "print(\"Interviewed BAME: \" + str(interviewed_num_of_BAME))\n",
    "print(\"Offered BAME: \" + str(offer_num_of_BAME))\n",
    "print(\"Accepted BAME: \" + str(accepted_num_of_BAME))\n",
    "print(\"Joined BAME: \" + str(joined_num_of_BAME))\n",
    "print(\"\\n\")\n",
    "print(\"Total Number of Non-BAME: \" + str(total_num_nonBAME))\n",
    "print(\"Shortlisted Non-BAME: \" + str(shortlisted_num_of_nonBAME))\n",
    "print(\"Interviewed Non-BAME: \" + str(interviewed_num_of_nonBAME))\n",
    "print(\"Offered Non-BAME: \" + str(offer_num_of_nonBAME))\n",
    "print(\"Accepted Non-BAME: \" + str(accepted_num_of_nonBAME))\n",
    "print(\"Joined Non-BAME: \" + str(joined_num_of_nonBAME))\n"
   ]
  },
  {
   "cell_type": "markdown",
   "metadata": {},
   "source": [
    "### Question 3"
   ]
  },
  {
   "cell_type": "code",
   "execution_count": 367,
   "metadata": {},
   "outputs": [
    {
     "name": "stdout",
     "output_type": "stream",
     "text": [
      "P(Invited to an interview|Male): 38/78 0.48717948717948717\n",
      "P(Offered a Job|Male): 18/78 0.23076923076923078\n",
      "P(Invited to an interview|Female): 50/202 0.24752475247524752\n",
      "P(Offered a Job|Female): 10/202 0.04950495049504951\n",
      "\n",
      "\n",
      "P(Invited to an interview|BAME): 19/121 0.15702479338842976\n",
      "P(Offered a Job|BAME): 8/121 0.06611570247933884\n",
      "P(Invited to an interview|Non-BAME): 69/159 0.4339622641509434\n",
      "P(Offered a Job|Non-BAME): 20/159 0.12578616352201258\n"
     ]
    }
   ],
   "source": [
    "# Displays the result of being invited to an interview or offered a job, given the gender of an applicant is in\n",
    "print(\"P(Invited to an interview|Male): \" + str(shortlisted_num_of_males) + \"/\" + str(total_num_male), int(shortlisted_num_of_males)/int(total_num_male))\n",
    "print(\"P(Offered a Job|Male): \" + str(offer_num_of_males) + \"/\" + str(total_num_male), int(offer_num_of_males)/int(total_num_male))\n",
    "print(\"P(Invited to an interview|Female): \" + str(shortlisted_num_of_females) + \"/\" + str(total_num_female), int(shortlisted_num_of_females)/int(total_num_female))\n",
    "print(\"P(Offered a Job|Female): \" + str(offer_num_of_females) + \"/\" + str(total_num_female), int(offer_num_of_females)/int(total_num_female))\n",
    "print(\"\\n\")\n",
    "\n",
    "# Displays the result of being invited to an interview or offered a job, given whether an applicant is BAME\n",
    "print(\"P(Invited to an interview|BAME): \" + str(shortlisted_num_of_BAME) + \"/\" + str(total_num_BAME), int(shortlisted_num_of_BAME)/int(total_num_BAME))\n",
    "print(\"P(Offered a Job|BAME): \" + str(offer_num_of_BAME) + \"/\" + str(total_num_BAME), int(offer_num_of_BAME)/int(total_num_BAME))\n",
    "print(\"P(Invited to an interview|Non-BAME): \" + str(shortlisted_num_of_nonBAME) + \"/\" + str(total_num_nonBAME), int(shortlisted_num_of_nonBAME)/int(total_num_nonBAME))\n",
    "print(\"P(Offered a Job|Non-BAME): \" + str(offer_num_of_nonBAME) + \"/\" + str(total_num_nonBAME), int(offer_num_of_nonBAME)/int(total_num_nonBAME))\n"
   ]
  },
  {
   "cell_type": "markdown",
   "metadata": {},
   "source": [
    "### Question 5"
   ]
  },
  {
   "cell_type": "code",
   "execution_count": 368,
   "metadata": {},
   "outputs": [],
   "source": [
    "# The rows within the \"BAMEyn\" and \"shortlisted\" table\n",
    "chi_shortlisted_BAMEyn = [[shortlisted_num_of_BAME, (total_num_BAME - shortlisted_num_of_BAME)], [shortlisted_num_of_nonBAME, (total_num_nonBAME - shortlisted_num_of_nonBAME)]]\n",
    "chi_shortlisted_gender = [[shortlisted_num_of_males, (total_num_male - shortlisted_num_of_males)], [shortlisted_num_of_females, (total_num_female - shortlisted_num_of_females)]]\n",
    "# Define the significance value\n",
    "sigval = 0.05\n"
   ]
  },
  {
   "cell_type": "code",
   "execution_count": 369,
   "metadata": {},
   "outputs": [
    {
     "name": "stdout",
     "output_type": "stream",
     "text": [
      "h0: There is no relationship between an applicant that is BAME / not BAME and whether they were shortlisted or not\n",
      "Shortlisted and BAMEyn p value: 1.4720402657609345e-06\n",
      "Shortlisted and BAMEyn DEPEND on one another (reject H0)\n",
      "\n",
      "\n"
     ]
    }
   ],
   "source": [
    "# TEST 1\n",
    "# Define h0\n",
    "print(\"h0: There is no relationship between an applicant that is BAME / not BAME and whether they were shortlisted or not\")\n",
    "# Calculate the expected, p-value, degree of freedom and chi-squared values for the BAMEyn table\n",
    "chi_BAMEyn, pvalue_BAMEyn, dof_BAMEyn, expected_BAMEyn = stats.chi2_contingency(chi_shortlisted_BAMEyn)\n",
    "print(\"Shortlisted and BAMEyn p value: \" + str(pvalue_BAMEyn))\n",
    "\n",
    "# Evaluate the results\n",
    "if pvalue_BAMEyn <= sigval:\n",
    "    print(\"Shortlisted and BAMEyn DEPEND on one another (reject H0)\")\n",
    "    print(\"\\n\")\n",
    "else:\n",
    "    print(\"Shortlisted and BAMEyn are INDEPENDENT of one another (H0 is true)\")\n",
    "    print(\"\\n\")\n",
    "    "
   ]
  },
  {
   "cell_type": "code",
   "execution_count": 370,
   "metadata": {},
   "outputs": [
    {
     "name": "stdout",
     "output_type": "stream",
     "text": [
      "There is no relationship between an applicant’s gender and whether they were shortlisted or not\n",
      "Shortlisted and BAMEyn p value: 0.00019227016669192619\n",
      "Shortlisted and the applicants gender DEPEND on one another (reject H0)\n"
     ]
    }
   ],
   "source": [
    "# TEST 2\n",
    "# Define h0\n",
    "print(\"There is no relationship between an applicant’s gender and whether they were shortlisted or not\")\n",
    "\n",
    "# Calculate the expected, p-value, degree of freedom and chi-squared values for the gender table\n",
    "chi_gender, pvalue_gender, dof_gender, expected_gender = stats.chi2_contingency(chi_shortlisted_gender)\n",
    "print(\"Shortlisted and BAMEyn p value: \" + str(pvalue_gender))\n",
    "\n",
    "# Evaluate the results\n",
    "if pvalue_gender <= sigval:\n",
    "    print(\"Shortlisted and the applicants gender DEPEND on one another (reject H0)\")\n",
    "else:\n",
    "    print(\"Shortlisted and the applicants gender are INDEPENDENT of one another (H0 is true)\")\n"
   ]
  },
  {
   "cell_type": "code",
   "execution_count": 371,
   "metadata": {},
   "outputs": [],
   "source": [
    "# print()\n",
    "# print(data.loc[(data[\"OfferNY\"] == 1)].shape[0])\n",
    "# print(data.loc[(data[\"OfferNY\"] == 1) & (data[\"Gender\"] == 1)].shape[0])\n",
    "# print(data.loc[(data[\"OfferNY\"] == 1) & (data[\"Gender\"] == 2)].shape[0])\n",
    "# print(data.loc[(data[\"OfferNY\"] == 1) & (data[\"Gender\"] == 1)].shape[0])\n",
    "# print(data.loc[(data[\"OfferNY\"] == 1) & (data[\"Gender\"] == 2)].shape[0])\n",
    "# print(data.loc[(data[\"ShortlistedNY\"] == 1) & (data[\"Gender\"] == 1)].shape[0])\n",
    "\n",
    "# data[\"ShortlistedNY\"].sum()"
   ]
  }
 ],
 "metadata": {
  "kernelspec": {
   "display_name": "Python 3",
   "language": "python",
   "name": "python3"
  },
  "language_info": {
   "codemirror_mode": {
    "name": "ipython",
    "version": 3
   },
   "file_extension": ".py",
   "mimetype": "text/x-python",
   "name": "python",
   "nbconvert_exporter": "python",
   "pygments_lexer": "ipython3",
   "version": "3.8.3"
  }
 },
 "nbformat": 4,
 "nbformat_minor": 4
}
